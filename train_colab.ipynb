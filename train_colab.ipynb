# Ячейка 1: Клонирование репозитория и установка зависимостей
# Если вы запускаете этот ноутбук впервые, выполните эту ячейку.
# Если вы перезапускаете сессию и репозиторий уже есть, можно пропустить.
!git clone https://github.com/96Azerus/mccfr_engine.git
%cd mccfr_engine
!pip install numpy

# Ячейка 2: Импорты и настройка
import pickle
import getpass
import subprocess
import time
import os
import numpy as np
import sys

# Добавляем путь к нашим модулям
sys.path.append('/content/mccfr_engine')

from ofc_game import GameState
from mccfr import mccfr_traverse

# --- Константы ---
GIT_USER = "96Azerus"
GIT_REPO = "mccfr_engine"
STRATEGY_FILE = "ofc_strategy.pkl"
SAVE_INTERVAL = 10000
NUM_ITERATIONS = 1_000_000

# Ячейка 3: Функции для работы с Git
def load_strategy():
    if os.path.exists(STRATEGY_FILE):
        with open(STRATEGY_FILE, 'rb') as f:
            print("Стратегия успешно загружена с диска Colab.")
            return pickle.load(f)
    print("Файл стратегии не найден. Начинаем с нуля.")
    return {}

def save_and_push_strategy(strategy, iteration, token):
    with open(STRATEGY_FILE, 'wb') as f:
        pickle.dump(strategy, f)
    
    repo_url_with_token = f"https://{token}@github.com/{GIT_USER}/{GIT_REPO}.git"
    subprocess.run('git config --global user.email "colab@example.com"', shell=True)
    subprocess.run('git config --global user.name "Colab Trainer"', shell=True)
    
    try:
        subprocess.run(f'git add {STRATEGY_FILE}', shell=True, check=True)
        # Проверяем, есть ли изменения для коммита
        status_result = subprocess.run('git status --porcelain', shell=True, capture_output=True, text=True)
        if STRATEGY_FILE in status_result.stdout:
            subprocess.run(f'git commit -m "Training progress: iteration {iteration}"', shell=True, check=True)
            subprocess.run('git remote rm origin', shell=True, capture_output=True)
            subprocess.run(f'git remote add origin {repo_url_with_token}', shell=True, check=True)
            print("Pushing to main branch...")
            subprocess.run('git push -u origin main', shell=True, check=True)
            print(f"Прогресс на итерации {iteration} успешно сохранен в Git.")
        else:
            print(f"Нет изменений в файле стратегии на итерации {iteration}. Пропускаем пуш.")
    except subprocess.CalledProcessError as e:
        print(f"Ошибка при пуше в Git: {e.stderr}")

# Ячейка 4: Основной цикл тренировки
strategy_profile = load_strategy()
git_token = getpass.getpass("Введите ваш GitHub Personal Access Token: ")

start_time = time.time()
for i in range(1, NUM_ITERATIONS + 1):
    initial_state = GameState()
    
    # Запускаем обход для обоих игроков
    mccfr_traverse(initial_state, 0, strategy_profile)
    mccfr_traverse(initial_state, 1, strategy_profile)

    if i % 100 == 0:
        elapsed = time.time() - start_time
        ips = i / elapsed if elapsed > 0 else 0
        print(f"Итерация: {i}/{NUM_ITERATIONS}, Инфосетов: {len(strategy_profile)}, IPS: {ips:.2f}")

    if i % SAVE_INTERVAL == 0 and git_token:
        save_and_push_strategy(strategy_profile, i, git_token)

print("Тренировка завершена.")
if git_token:
    save_and_push_strategy(strategy_profile, NUM_ITERATIONS, git_token)
